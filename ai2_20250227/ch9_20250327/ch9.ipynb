{
 "cells": [
  {
   "cell_type": "markdown",
   "metadata": {},
   "source": [
    "## 練習1:代數展開"
   ]
  },
  {
   "cell_type": "markdown",
   "metadata": {},
   "source": [
    "公式：\n",
    "$[ (x + y)^3 ]$\n",
    "\n",
    "$ x^{3} + 3 x^{2} y + 3 x y^{2} + y^{3} $"
   ]
  },
  {
   "cell_type": "code",
   "execution_count": 8,
   "metadata": {},
   "outputs": [
    {
     "name": "stdout",
     "output_type": "stream",
     "text": [
      "x**3 + 3*x**2*y + 3*x*y**2 + y**3\n",
      "x^{3} + 3 x^{2} y + 3 x y^{2} + y^{3}\n"
     ]
    },
    {
     "data": {
      "text/latex": [
       "$\\displaystyle (x+y)^3$"
      ],
      "text/plain": [
       "<IPython.core.display.Math object>"
      ]
     },
     "metadata": {},
     "output_type": "display_data"
    },
    {
     "data": {
      "text/latex": [
       "$\\displaystyle x^{3} + 3 x^{2} y + 3 x y^{2} + y^{3}$"
      ],
      "text/plain": [
       "<IPython.core.display.Math object>"
      ]
     },
     "metadata": {},
     "output_type": "display_data"
    }
   ],
   "source": [
    "import sympy as sp\n",
    "from IPython.display import display, Math\n",
    "x,y = sp.symbols('x y')\n",
    "expr1 = (x + y) ** 3\n",
    "extend_expr1 = sp.expand(expr1)\n",
    "print(extend_expr1)\n",
    "print(sp.latex(extend_expr1))\n",
    "display(Math(f\"({x}+{y})^3\"))\n",
    "display(Math(sp.latex(extend_expr1)))"
   ]
  },
  {
   "cell_type": "markdown",
   "metadata": {},
   "source": [
    "### 練習2：因式分解\n",
    "公式：\n",
    "$[ x^3 + 3x^2 + 3x + 1 ]$"
   ]
  },
  {
   "cell_type": "code",
   "execution_count": 10,
   "metadata": {},
   "outputs": [
    {
     "name": "stdout",
     "output_type": "stream",
     "text": [
      "(x + 1)**3\n"
     ]
    },
    {
     "data": {
      "text/latex": [
       "$\\displaystyle \\left(x + 1\\right)^{3}$"
      ],
      "text/plain": [
       "<IPython.core.display.Math object>"
      ]
     },
     "metadata": {},
     "output_type": "display_data"
    }
   ],
   "source": [
    "x = sp.symbols('x')\n",
    "expr2 =  x **3+ 3 * x ** 2 + 3 * x + 1\n",
    "f_expr2 = sp.factor(expr2)\n",
    "print(f_expr2)\n",
    "display(Math(f\"{sp.latex(f_expr2)}\"))"
   ]
  },
  {
   "cell_type": "markdown",
   "metadata": {},
   "source": [
    "### 練習3：代數簡化\n",
    "公式：\n",
    "$[ \\frac{x^2 - y^2}{x - y} ]$"
   ]
  },
  {
   "cell_type": "code",
   "execution_count": 14,
   "metadata": {},
   "outputs": [
    {
     "name": "stdout",
     "output_type": "stream",
     "text": [
      "x + y\n",
      "\\frac{x^{2} - y^{2}}{x - y}\n"
     ]
    },
    {
     "data": {
      "text/latex": [
       "$\\displaystyle \\frac{x^{2} - y^{2}}{x - y}$"
      ],
      "text/plain": [
       "<IPython.core.display.Math object>"
      ]
     },
     "metadata": {},
     "output_type": "display_data"
    },
    {
     "data": {
      "text/latex": [
       "$\\displaystyle x + y$"
      ],
      "text/plain": [
       "<IPython.core.display.Math object>"
      ]
     },
     "metadata": {},
     "output_type": "display_data"
    }
   ],
   "source": [
    "x,y = sp.symbols('x y')\n",
    "expr3 = (x ** 2 - y ** 2) / (x - y)\n",
    "simp_expr3 = sp.simplify(expr3) \n",
    "print(simp_expr3)\n",
    "print(sp.latex(expr3))\n",
    "display(Math(sp.latex(expr3)) )\n",
    "display(Math(sp.latex(simp_expr3)))\n"
   ]
  },
  {
   "cell_type": "markdown",
   "metadata": {},
   "source": [
    "### 練習4：符號代入\n",
    "公式：\n",
    "$[ x^2 + y^2 ]$\n",
    "並代入 $( x = 1 )$ 和 $( y = 2 )$"
   ]
  },
  {
   "cell_type": "code",
   "execution_count": 18,
   "metadata": {},
   "outputs": [
    {
     "name": "stdout",
     "output_type": "stream",
     "text": [
      "<class 'sympy.core.add.Add'>\n"
     ]
    },
    {
     "data": {
      "text/latex": [
       "$\\displaystyle 5$"
      ],
      "text/plain": [
       "<IPython.core.display.Math object>"
      ]
     },
     "metadata": {},
     "output_type": "display_data"
    }
   ],
   "source": [
    "import sympy.core.add as add\n",
    "x,y = sp.symbols('x y')\n",
    "expr4:add.Add = x ** 2 + y ** 2\n",
    "print(type(expr4))\n",
    "sub_expor4 = expr4.subs(x,1).subs(y,2)\n",
    "display(Math(f\"{sub_expor4}\"))\n"
   ]
  },
  {
   "cell_type": "markdown",
   "metadata": {},
   "source": [
    "### 練習5：求根\n",
    "公式：\n",
    "$[ x^2 - 4 = 0 ]$"
   ]
  },
  {
   "cell_type": "code",
   "execution_count": 19,
   "metadata": {},
   "outputs": [
    {
     "name": "stdout",
     "output_type": "stream",
     "text": [
      "[-2, 2]\n"
     ]
    }
   ],
   "source": [
    "x = sp.symbols(\"x\")\n",
    "expor5 = x ** 2 - 4\n",
    "sqrt_expr5 = sp.solve(expor5)\n",
    "print(sqrt_expr5)"
   ]
  },
  {
   "cell_type": "markdown",
   "metadata": {
    "vscode": {
     "languageId": "bat"
    }
   },
   "source": [
    "### 練習2：二元線性方程組\n",
    "#### 公式\n",
    "1. \\( 2x - 3y = 1 \\)\n",
    "2. \\( x + y = 2 \\)"
   ]
  },
  {
   "cell_type": "code",
   "execution_count": 20,
   "metadata": {},
   "outputs": [
    {
     "name": "stdout",
     "output_type": "stream",
     "text": [
      "{x: 7/5, y: 3/5}\n"
     ]
    }
   ],
   "source": [
    "x,y = sp.symbols('x,y')\n",
    "eq2_1 = sp.Eq(2 *x - 3 * y,1)\n",
    "eq2_2 = sp.Eq(x + y ,2)\n",
    "solut1 = sp.solve((eq2_1,eq2_2),(x,y))\n",
    "print(solut1)"
   ]
  },
  {
   "cell_type": "code",
   "execution_count": null,
   "metadata": {},
   "outputs": [],
   "source": []
  }
 ],
 "metadata": {
  "kernelspec": {
   "display_name": "base",
   "language": "python",
   "name": "python3"
  },
  "language_info": {
   "codemirror_mode": {
    "name": "ipython",
    "version": 3
   },
   "file_extension": ".py",
   "mimetype": "text/x-python",
   "name": "python",
   "nbconvert_exporter": "python",
   "pygments_lexer": "ipython3",
   "version": "3.11.9"
  }
 },
 "nbformat": 4,
 "nbformat_minor": 2
}
